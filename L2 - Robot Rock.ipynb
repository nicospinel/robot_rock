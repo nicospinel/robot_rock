{
 "cells": [
  {
   "cell_type": "markdown",
   "metadata": {},
   "source": [
    "# Dataset Pipeline"
   ]
  },
  {
   "cell_type": "markdown",
   "metadata": {},
   "source": [
    "## Libs"
   ]
  },
  {
   "cell_type": "code",
   "execution_count": 1,
   "metadata": {},
   "outputs": [],
   "source": [
    "import pandas as pd\n",
    "from pandasql import sqldf\n",
    "from sklearn.model_selection import train_test_split"
   ]
  },
  {
   "cell_type": "markdown",
   "metadata": {},
   "source": [
    "## Discover features"
   ]
  },
  {
   "cell_type": "code",
   "execution_count": 2,
   "metadata": {
    "scrolled": true
   },
   "outputs": [],
   "source": [
    "daft_tracks = pd.read_csv('daft_tracks.csv')\n",
    "daft_nico = pd.read_csv('daft_nico.csv')"
   ]
  },
  {
   "cell_type": "code",
   "execution_count": 3,
   "metadata": {},
   "outputs": [
    {
     "name": "stdout",
     "output_type": "stream",
     "text": [
      "<class 'pandas.core.frame.DataFrame'>\n",
      "RangeIndex: 51 entries, 0 to 50\n",
      "Data columns (total 22 columns):\n",
      " #   Column            Non-Null Count  Dtype  \n",
      "---  ------            --------------  -----  \n",
      " 0   danceability      51 non-null     float64\n",
      " 1   energy            51 non-null     float64\n",
      " 2   key               51 non-null     int64  \n",
      " 3   loudness          51 non-null     float64\n",
      " 4   mode              51 non-null     int64  \n",
      " 5   speechiness       51 non-null     float64\n",
      " 6   acousticness      51 non-null     float64\n",
      " 7   instrumentalness  51 non-null     float64\n",
      " 8   liveness          51 non-null     float64\n",
      " 9   valence           51 non-null     float64\n",
      " 10  tempo             51 non-null     float64\n",
      " 11  type              51 non-null     object \n",
      " 12  id                51 non-null     object \n",
      " 13  uri               51 non-null     object \n",
      " 14  track_href        51 non-null     object \n",
      " 15  analysis_url      51 non-null     object \n",
      " 16  duration_ms       51 non-null     int64  \n",
      " 17  time_signature    51 non-null     int64  \n",
      " 18  name              51 non-null     object \n",
      " 19  preview_url       51 non-null     object \n",
      " 20  top_favoritas     51 non-null     int64  \n",
      " 21  puntaje           51 non-null     int64  \n",
      "dtypes: float64(9), int64(6), object(7)\n",
      "memory usage: 8.9+ KB\n"
     ]
    }
   ],
   "source": [
    "daft_df = sqldf(\"\"\"\n",
    "SELECT\n",
    "    a.*,\n",
    "    b.top_favoritas,\n",
    "    b.puntaje\n",
    "FROM daft_tracks a\n",
    "JOIN daft_nico b\n",
    "ON a.uri = b.uri\n",
    "\"\"\")\n",
    "\n",
    "daft_df.info()"
   ]
  },
  {
   "cell_type": "markdown",
   "metadata": {},
   "source": [
    "### Feature selection"
   ]
  },
  {
   "cell_type": "code",
   "execution_count": 4,
   "metadata": {},
   "outputs": [],
   "source": [
    "X = daft_df[['uri',\n",
    "             'danceability',\n",
    "             'energy',\n",
    "             'key',\n",
    "             'loudness',\n",
    "             'speechiness',\n",
    "             'acousticness',\n",
    "             'instrumentalness',\n",
    "             'liveness',\n",
    "             'valence',\n",
    "             'tempo',\n",
    "             'duration_ms',\n",
    "             'time_signature']].set_index('uri')\n",
    "y = daft_df['puntaje']"
   ]
  },
  {
   "cell_type": "markdown",
   "metadata": {},
   "source": [
    "### Cross-validation Schema"
   ]
  },
  {
   "cell_type": "code",
   "execution_count": 5,
   "metadata": {},
   "outputs": [],
   "source": [
    "X_train, X_test, y_train, y_test = train_test_split(X,\n",
    "                                                    y, \n",
    "                                                    test_size = 0.3,\n",
    "                                                    random_state = 0)"
   ]
  },
  {
   "cell_type": "markdown",
   "metadata": {},
   "source": [
    "### Model"
   ]
  },
  {
   "cell_type": "code",
   "execution_count": null,
   "metadata": {},
   "outputs": [],
   "source": []
  },
  {
   "cell_type": "markdown",
   "metadata": {},
   "source": [
    "### Plots"
   ]
  }
 ],
 "metadata": {
  "kernelspec": {
   "display_name": "Python 3",
   "language": "python",
   "name": "python3"
  },
  "language_info": {
   "codemirror_mode": {
    "name": "ipython",
    "version": 3
   },
   "file_extension": ".py",
   "mimetype": "text/x-python",
   "name": "python",
   "nbconvert_exporter": "python",
   "pygments_lexer": "ipython3",
   "version": "3.8.5"
  }
 },
 "nbformat": 4,
 "nbformat_minor": 4
}
